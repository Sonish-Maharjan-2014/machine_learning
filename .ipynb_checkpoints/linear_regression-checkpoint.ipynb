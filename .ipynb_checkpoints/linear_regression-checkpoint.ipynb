{
 "cells": [
  {
   "cell_type": "code",
   "execution_count": 1,
   "id": "e5fb0481",
   "metadata": {},
   "outputs": [],
   "source": [
    "import numpy as np\n",
    "import matplotlib.pyplot as plt"
   ]
  },
  {
   "cell_type": "code",
   "execution_count": 2,
   "id": "3c7fa989",
   "metadata": {},
   "outputs": [],
   "source": [
    "x = np.array([4,3,3,3,6,4,5,4,5,1,2,2,3])\n",
    "y = np.array([99,86,87,88,111,86,103,87,94,78,77,85,86])"
   ]
  },
  {
   "cell_type": "code",
   "execution_count": 7,
   "id": "dd7a2f4d",
   "metadata": {},
   "outputs": [],
   "source": [
    "w = np.zeros(1)\n",
    "b = np.zeros(1)\n",
    "m = len(x) # number of examples"
   ]
  },
  {
   "cell_type": "code",
   "execution_count": 8,
   "id": "6109cb1f",
   "metadata": {},
   "outputs": [],
   "source": [
    "# y = mx+c\n",
    "y_pred = w * x + b #w = weight , b= bias"
   ]
  },
  {
   "cell_type": "code",
   "execution_count": 9,
   "id": "cc898d4e",
   "metadata": {},
   "outputs": [],
   "source": [
    "# COST FUNCTION\n",
    "cost_function = (((y_pred-y)**2).sum())*(1/m)"
   ]
  },
  {
   "cell_type": "code",
   "execution_count": null,
   "id": "3c713b22",
   "metadata": {
    "collapsed": true
   },
   "outputs": [],
   "source": []
  },
  {
   "cell_type": "code",
   "execution_count": null,
   "id": "4acfb4cd",
   "metadata": {},
   "outputs": [],
   "source": []
  }
 ],
 "metadata": {
  "kernelspec": {
   "display_name": "Python 3 (ipykernel)",
   "language": "python",
   "name": "python3"
  },
  "language_info": {
   "codemirror_mode": {
    "name": "ipython",
    "version": 3
   },
   "file_extension": ".py",
   "mimetype": "text/x-python",
   "name": "python",
   "nbconvert_exporter": "python",
   "pygments_lexer": "ipython3",
   "version": "3.10.6"
  }
 },
 "nbformat": 4,
 "nbformat_minor": 5
}
