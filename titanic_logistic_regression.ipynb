{
 "cells": [
  {
   "cell_type": "code",
   "execution_count": null,
   "id": "30a7d788",
   "metadata": {},
   "outputs": [],
   "source": [
    "import pandas as pd\n",
    "import numpy as np\n",
    "import matplotlib.pyplot as plt"
   ]
  },
  {
   "cell_type": "markdown",
   "id": "a66fa7d1",
   "metadata": {},
   "source": [
    "# Reading from csv file"
   ]
  },
  {
   "cell_type": "code",
   "execution_count": null,
   "id": "21aa4ea5",
   "metadata": {},
   "outputs": [],
   "source": [
    "titanic = pd.read_csv(f'train.csv',index_col = 'PassengerId')\n",
    "titanic.head()"
   ]
  },
  {
   "cell_type": "code",
   "execution_count": null,
   "id": "f406350c",
   "metadata": {},
   "outputs": [],
   "source": [
    "titanic.info()"
   ]
  },
  {
   "cell_type": "markdown",
   "id": "92962266",
   "metadata": {},
   "source": [
    "# Dropping unwanted columns"
   ]
  },
  {
   "cell_type": "code",
   "execution_count": null,
   "id": "3356cabf",
   "metadata": {},
   "outputs": [],
   "source": [
    "titanic.drop(['Name','Ticket','Cabin'],axis=1,inplace=True)\n",
    "titanic[titanic.isnull().any(axis=1)]"
   ]
  },
  {
   "cell_type": "code",
   "execution_count": null,
   "id": "1cf1ae23",
   "metadata": {},
   "outputs": [],
   "source": [
    "titanic.info()"
   ]
  },
  {
   "cell_type": "code",
   "execution_count": null,
   "id": "09f30580",
   "metadata": {},
   "outputs": [],
   "source": [
    "titanic.Embarked.value_counts()"
   ]
  },
  {
   "cell_type": "code",
   "execution_count": null,
   "id": "3b9298fc",
   "metadata": {},
   "outputs": [],
   "source": [
    "titanic.Sex.value_counts()"
   ]
  },
  {
   "cell_type": "code",
   "execution_count": null,
   "id": "136d210d",
   "metadata": {},
   "outputs": [],
   "source": [
    "titanic.describe()"
   ]
  },
  {
   "cell_type": "markdown",
   "id": "0d7bb2df",
   "metadata": {},
   "source": [
    "# Filling nan columns"
   ]
  },
  {
   "cell_type": "code",
   "execution_count": null,
   "id": "792eeebe",
   "metadata": {},
   "outputs": [],
   "source": [
    "titanic.Age.fillna(29,inplace = True)"
   ]
  },
  {
   "cell_type": "code",
   "execution_count": null,
   "id": "ac3bde05",
   "metadata": {},
   "outputs": [],
   "source": [
    "titanic.Embarked.fillna(\"S\",inplace = True)"
   ]
  },
  {
   "cell_type": "code",
   "execution_count": null,
   "id": "03c39d71",
   "metadata": {},
   "outputs": [],
   "source": [
    "titanic.info()"
   ]
  },
  {
   "cell_type": "code",
   "execution_count": null,
   "id": "a04bc13d",
   "metadata": {},
   "outputs": [],
   "source": [
    "titanic"
   ]
  },
  {
   "cell_type": "markdown",
   "id": "24f98699",
   "metadata": {},
   "source": [
    "# Encoding categorical columns"
   ]
  },
  {
   "cell_type": "code",
   "execution_count": null,
   "id": "552dd67e",
   "metadata": {},
   "outputs": [],
   "source": [
    "cleanup_nums = {\"Sex\":     {\"male\": 1, \"female\": 0},\n",
    "                \"Embarked\": {\"S\": 2,\"Q\" : 1,\"C\": 0}}\n"
   ]
  },
  {
   "cell_type": "code",
   "execution_count": null,
   "id": "11119ed6",
   "metadata": {},
   "outputs": [],
   "source": [
    "titanic.replace(cleanup_nums, inplace = True)"
   ]
  },
  {
   "cell_type": "code",
   "execution_count": null,
   "id": "01378c11",
   "metadata": {},
   "outputs": [],
   "source": [
    "titanic"
   ]
  },
  {
   "cell_type": "markdown",
   "id": "ee2fc107",
   "metadata": {},
   "source": [
    "# Plotting"
   ]
  },
  {
   "cell_type": "code",
   "execution_count": null,
   "id": "db5d9d22",
   "metadata": {},
   "outputs": [],
   "source": [
    "import plotly.express as px\n",
    "fig= px.scatter(titanic,x='Pclass', y='Age',color='Survived')\n",
    "# fig.update_traces(textposition = 'bottom right')\n",
    "fig.show()"
   ]
  },
  {
   "cell_type": "code",
   "execution_count": null,
   "id": "be5adb2f",
   "metadata": {},
   "outputs": [],
   "source": [
    "fig= px.scatter(titanic,x='Sex', y='Age',color='Survived')\n",
    "fig.show()"
   ]
  },
  {
   "cell_type": "code",
   "execution_count": null,
   "id": "6b010406",
   "metadata": {},
   "outputs": [],
   "source": [
    "fig= px.scatter(titanic,x='Embarked', y='Age',color='Survived')\n",
    "fig.show()"
   ]
  },
  {
   "cell_type": "code",
   "execution_count": null,
   "id": "ec171a43",
   "metadata": {},
   "outputs": [],
   "source": [
    "fig= px.scatter(titanic,x='SibSp', y='Age',color='Survived')\n",
    "fig.show()"
   ]
  },
  {
   "cell_type": "code",
   "execution_count": null,
   "id": "4f63c4f1",
   "metadata": {},
   "outputs": [],
   "source": [
    "fig= px.scatter(titanic,x='Fare', ay='Age',color='Survived')\n",
    "fig.show()"
   ]
  },
  {
   "cell_type": "code",
   "execution_count": null,
   "id": "bba03592",
   "metadata": {},
   "outputs": [],
   "source": [
    "x = titanic[['Pclass','Sex','Age','SibSp','Parch','Fare','Embarked']]\n",
    "y = titanic['Survived']"
   ]
  },
  {
   "cell_type": "markdown",
   "id": "8a4118b8",
   "metadata": {},
   "source": [
    "# Train test split"
   ]
  },
  {
   "cell_type": "code",
   "execution_count": null,
   "id": "3a9c5142",
   "metadata": {},
   "outputs": [],
   "source": [
    "from sklearn.model_selection import train_test_split\n",
    "x_train,x_test,y_train,y_test = train_test_split(x,y,test_size=.1,random_state=12)\n"
   ]
  },
  {
   "cell_type": "code",
   "execution_count": null,
   "id": "4835e635",
   "metadata": {},
   "outputs": [],
   "source": [
    "x = []\n",
    "for i in titanic:\n",
    "    if i != 'Survived':\n",
    "       x.append(list(titanic[i]))"
   ]
  },
  {
   "cell_type": "code",
   "execution_count": null,
   "id": "5f2fd8f6",
   "metadata": {},
   "outputs": [],
   "source": [
    "x = np.array(x)\n",
    "y = np.array(list(titanic['Survived']))"
   ]
  },
  {
   "cell_type": "code",
   "execution_count": null,
   "id": "8ffaac94",
   "metadata": {},
   "outputs": [],
   "source": [
    "def cal_y_pred(w,b,x):\n",
    "    z = np.dot(w,x) + b\n",
    "    y_pred = 1/(1+np.exp(-z))\n",
    "    return y_pred"
   ]
  },
  {
   "cell_type": "code",
   "execution_count": null,
   "id": "f28339b1",
   "metadata": {},
   "outputs": [],
   "source": [
    "m = len(y)\n",
    "b = np.zeros(1)\n",
    "w = np.zeros(len(x))"
   ]
  },
  {
   "cell_type": "code",
   "execution_count": null,
   "id": "32a15da2",
   "metadata": {},
   "outputs": [],
   "source": [
    "cal_y_pred(w,b,x)"
   ]
  },
  {
   "cell_type": "markdown",
   "id": "a684de37",
   "metadata": {},
   "source": [
    "# Cost function"
   ]
  },
  {
   "cell_type": "code",
   "execution_count": null,
   "id": "7ccc6dbf",
   "metadata": {},
   "outputs": [],
   "source": [
    "def cost_function(w,b,x):\n",
    "    y_pred = cal_y_pred(w,b,x)\n",
    "    cost_value = (y*np.log(y_pred)+(1-y)*(np.log(1-y_pred))).sum()*(-1/m)\n",
    "    return cost_value"
   ]
  },
  {
   "cell_type": "code",
   "execution_count": null,
   "id": "eb77e9f6",
   "metadata": {},
   "outputs": [],
   "source": [
    "cost_function(w,b,x)"
   ]
  },
  {
   "cell_type": "code",
   "execution_count": null,
   "id": "0d7c9b8e",
   "metadata": {},
   "outputs": [],
   "source": [
    "# c = np.linspace(-6,0,100)"
   ]
  },
  {
   "cell_type": "markdown",
   "id": "6a31c984",
   "metadata": {},
   "source": [
    "# Plot cost function"
   ]
  },
  {
   "cell_type": "code",
   "execution_count": null,
   "id": "8f7a1212",
   "metadata": {},
   "outputs": [],
   "source": [
    "c = np.linspace(-1,0.999,100)\n",
    "w = np.zeros(len(x))\n",
    "cost_array =[]\n",
    "it = []\n",
    "\n",
    "for i in c:\n",
    "    b = i\n",
    "    it.append(i)\n",
    "    cost_array.append(cost_function(w,b,x))"
   ]
  },
  {
   "cell_type": "code",
   "execution_count": null,
   "id": "794893b9",
   "metadata": {},
   "outputs": [],
   "source": [
    "plt.scatter(it,cost_array)"
   ]
  },
  {
   "cell_type": "markdown",
   "id": "fdaad683",
   "metadata": {},
   "source": [
    "# Gradient descent"
   ]
  },
  {
   "cell_type": "code",
   "execution_count": null,
   "id": "a12c1a77",
   "metadata": {},
   "outputs": [],
   "source": [
    "w = np.zeros(len(x))\n",
    "b = np.zeros(1)\n",
    "\n",
    "a=.001\n",
    "\n",
    "while True:\n",
    "\n",
    "    temp_w = []\n",
    "    y_pred = cal_y_pred(w,b,x)\n",
    "    for j in range(len(x)):\n",
    "        gradient_w = (((y_pred-y)*x[j]).sum())/m\n",
    "        temp_w.append(w[j]- a * gradient_w)\n",
    "\n",
    "    gradient_b = ((y_pred-y).sum())/m\n",
    "    temp_b = b - a * gradient_b\n",
    "    \n",
    "    print(gradient_b)\n",
    "    if gradient_b < 0.0001:\n",
    "        break\n",
    "    \n",
    "    w = temp_w\n",
    "    b = temp_b"
   ]
  },
  {
   "cell_type": "code",
   "execution_count": null,
   "id": "b8a6429e",
   "metadata": {},
   "outputs": [],
   "source": [
    "w,b"
   ]
  },
  {
   "cell_type": "markdown",
   "id": "ee6a864a",
   "metadata": {},
   "source": [
    "# Prediction function"
   ]
  },
  {
   "cell_type": "code",
   "execution_count": null,
   "id": "7dbb2c42",
   "metadata": {},
   "outputs": [],
   "source": [
    "def myfunc(x):\n",
    "    z = np.dot(w,x) + b\n",
    "    return (1/(1+np.exp(-z)))"
   ]
  },
  {
   "cell_type": "code",
   "execution_count": null,
   "id": "6d0dfb2d",
   "metadata": {},
   "outputs": [],
   "source": [
    "x1 = [3,1,22.0,1,0,7.2500,2]"
   ]
  },
  {
   "cell_type": "code",
   "execution_count": null,
   "id": "fde6b89f",
   "metadata": {},
   "outputs": [],
   "source": [
    "myfunc(x1)"
   ]
  },
  {
   "cell_type": "code",
   "execution_count": null,
   "id": "83dc6650",
   "metadata": {},
   "outputs": [],
   "source": [
    "# Pclass\tSex\tAge\tSibSp\tParch\tFare\tEmbarked\n",
    "myfunc([2,1,23,0,0,6.44,2])"
   ]
  },
  {
   "cell_type": "code",
   "execution_count": null,
   "id": "85179fa4",
   "metadata": {},
   "outputs": [],
   "source": [
    "x_test1 = []\n",
    "for i in x_test:\n",
    "    if i!='Survived':\n",
    "        x_test1.append(list(x_test[i]))"
   ]
  },
  {
   "cell_type": "code",
   "execution_count": null,
   "id": "a4a51028",
   "metadata": {},
   "outputs": [],
   "source": [
    "x_test1"
   ]
  },
  {
   "cell_type": "code",
   "execution_count": null,
   "id": "47f5a93e",
   "metadata": {},
   "outputs": [],
   "source": [
    "y_predict = cal_y_pred(w,b,x_test1)\n",
    "y_predict"
   ]
  },
  {
   "cell_type": "markdown",
   "id": "4d49033d",
   "metadata": {},
   "source": [
    "# Threshold"
   ]
  },
  {
   "cell_type": "code",
   "execution_count": null,
   "id": "a25c3d01",
   "metadata": {},
   "outputs": [],
   "source": [
    "y_predict = cal_y_pred(w,b,x_test1)\n",
    "\n",
    "y_predict[y_predict >= .42313] = 1\n",
    "y_predict[y_predict < .42313] = 0"
   ]
  },
  {
   "cell_type": "code",
   "execution_count": null,
   "id": "d1e2d920",
   "metadata": {},
   "outputs": [],
   "source": [
    "\n",
    "(y_predict)"
   ]
  },
  {
   "cell_type": "code",
   "execution_count": null,
   "id": "a23db554",
   "metadata": {},
   "outputs": [],
   "source": [
    "p =(np.array(y_test))\n",
    "p"
   ]
  },
  {
   "cell_type": "code",
   "execution_count": null,
   "id": "bbc89faf",
   "metadata": {},
   "outputs": [],
   "source": [
    "from sklearn.metrics import accuracy_score\n",
    "accuracy_score(y_predict,y_test)"
   ]
  },
  {
   "cell_type": "code",
   "execution_count": null,
   "id": "4dde67f9",
   "metadata": {},
   "outputs": [],
   "source": []
  },
  {
   "cell_type": "code",
   "execution_count": null,
   "id": "0742e683",
   "metadata": {},
   "outputs": [],
   "source": []
  }
 ],
 "metadata": {
  "kernelspec": {
   "display_name": "Python 3 (ipykernel)",
   "language": "python",
   "name": "python3"
  },
  "language_info": {
   "codemirror_mode": {
    "name": "ipython",
    "version": 3
   },
   "file_extension": ".py",
   "mimetype": "text/x-python",
   "name": "python",
   "nbconvert_exporter": "python",
   "pygments_lexer": "ipython3",
   "version": "3.10.6"
  }
 },
 "nbformat": 4,
 "nbformat_minor": 5
}
