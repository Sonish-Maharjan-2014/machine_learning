{
 "cells": [
  {
   "cell_type": "code",
   "execution_count": 226,
   "id": "3daee77d",
   "metadata": {},
   "outputs": [],
   "source": [
    "import numpy as np\n",
    "import matplotlib.pyplot as plt\n",
    "import plotly.express as px"
   ]
  },
  {
   "cell_type": "code",
   "execution_count": 260,
   "id": "3c7fa989",
   "metadata": {},
   "outputs": [],
   "source": [
    "x = np.array([4,3,3,3,6,4,5,4,5,1,2,2,3])\n",
    "y = np.array([99,86,87,88,111,86,103,87,94,78,77,85,86])"
   ]
  },
  {
   "cell_type": "code",
   "execution_count": 249,
   "id": "431b7fef",
   "metadata": {},
   "outputs": [],
   "source": [
    "x = np.array([89,43,36,36,95,10,66,34,38,20,26,29,48,64,6,5,36,66,72,40])\n",
    "y = np.array([21,46,3,35,67,95,53,72,58,10,26,34,90,33,38,20,56,2,47,15])"
   ]
  },
  {
   "cell_type": "markdown",
   "id": "7f79e85d",
   "metadata": {},
   "source": [
    "### consider no bias"
   ]
  },
  {
   "cell_type": "code",
   "execution_count": 263,
   "id": "dd7a2f4d",
   "metadata": {},
   "outputs": [],
   "source": [
    "b = np.zeros(1) #assume b=0\n",
    "m = len(x) # number of examples"
   ]
  },
  {
   "cell_type": "code",
   "execution_count": 264,
   "id": "d7d2ca6d",
   "metadata": {},
   "outputs": [],
   "source": [
    "# y = mx+c\n",
    "def cal_y_pred(w,b):\n",
    "    y_pred = w * x + b #w = weight , b= bias\n",
    "    return y_pred"
   ]
  },
  {
   "cell_type": "code",
   "execution_count": 265,
   "id": "e5f3a18d",
   "metadata": {},
   "outputs": [],
   "source": [
    "# COST FUNCTION\n",
    "def cal_cost_function(w,b):\n",
    "    cost_function = (((cal_y_pred(w,b)-y)**2).sum())*(.5/m)\n",
    "    return cost_function"
   ]
  },
  {
   "cell_type": "code",
   "execution_count": 266,
   "id": "07b89718",
   "metadata": {},
   "outputs": [],
   "source": [
    "cost_array = []\n",
    "b = np.zeros(1) #assume b=0\n",
    "for i in range(50):\n",
    "    cost_array.append(cal_cost_function(i,b))"
   ]
  },
  {
   "cell_type": "code",
   "execution_count": 267,
   "id": "0b7f20ad",
   "metadata": {},
   "outputs": [
    {
     "data": {
      "text/plain": [
       "Text(0, 0.5, 'y')"
      ]
     },
     "execution_count": 267,
     "metadata": {},
     "output_type": "execute_result"
    },
    {
     "data": {
      "image/png": "[encoded data removed]",
      "text/plain": [
       "<Figure size 432x288 with 1 Axes>"
      ]
     },
     "metadata": {
      "needs_background": "light"
     },
     "output_type": "display_data"
    }
   ],
   "source": [
    "plt.scatter(x,y)\n",
    "plt.xlabel('x')\n",
    "plt.ylabel('y')"
   ]
  },
  {
   "cell_type": "code",
   "execution_count": 268,
   "id": "82a4c163",
   "metadata": {},
   "outputs": [
    {
     "data": {
      "text/plain": [
       "Text(0.5, 1.0, 'Cost Function when b=0')"
      ]
     },
     "execution_count": 268,
     "metadata": {},
     "output_type": "execute_result"
    },
    {
     "data": {
      "image/png": "[encoded data removed]",
      "text/plain": [
       "<Figure size 432x288 with 1 Axes>"
      ]
     },
     "metadata": {
      "needs_background": "light"
     },
     "output_type": "display_data"
    }
   ],
   "source": [
    "i = np.arange(50)\n",
    "plt.scatter(i,cost_array)\n",
    "plt.xlabel('weight(w)')\n",
    "plt.ylabel('cost(J)')\n",
    "plt.title('Cost Function when b=0')"
   ]
  },
  {
   "cell_type": "markdown",
   "id": "03e757d7",
   "metadata": {},
   "source": [
    "## Gradient Descent"
   ]
  },
  {
   "cell_type": "code",
   "execution_count": 269,
   "id": "7d4ebba2",
   "metadata": {},
   "outputs": [],
   "source": [
    "w = np.zeros(1)\n",
    "b = np.zeros(1)\n",
    "a = .01\n",
    "while True:\n",
    "    gradient_w = (((cal_y_pred(w,b)-y)*x).sum())*(1/m)\n",
    "    gradient_b = ((cal_y_pred(w,b)-y).sum())/m\n",
    "    temp_w = w - a*gradient_w\n",
    "    temp_b = b - a*gradient_b\n",
    "    if temp_b == b:\n",
    "        break\n",
    "    w = temp_w\n",
    "    b = temp_b"
   ]
  },
  {
   "cell_type": "code",
   "execution_count": 270,
   "id": "9e0da442",
   "metadata": {},
   "outputs": [
    {
     "data": {
      "text/plain": [
       "(array([6.12913907]), array([68.55298013]))"
      ]
     },
     "execution_count": 270,
     "metadata": {},
     "output_type": "execute_result"
    }
   ],
   "source": [
    "w,b\n"
   ]
  },
  {
   "cell_type": "code",
   "execution_count": 271,
   "id": "17a5a0a3",
   "metadata": {},
   "outputs": [],
   "source": [
    "def myfunc(x):\n",
    "    return w*x+b"
   ]
  },
  {
   "cell_type": "code",
   "execution_count": 272,
   "id": "95f82b06",
   "metadata": {},
   "outputs": [
    {
     "data": {
      "text/plain": [
       "[array([93.06953642]),\n",
       " array([86.94039735]),\n",
       " array([86.94039735]),\n",
       " array([86.94039735]),\n",
       " array([105.32781457]),\n",
       " array([93.06953642]),\n",
       " array([99.1986755]),\n",
       " array([93.06953642]),\n",
       " array([99.1986755]),\n",
       " array([74.68211921]),\n",
       " array([80.81125828]),\n",
       " array([80.81125828]),\n",
       " array([86.94039735])]"
      ]
     },
     "execution_count": 272,
     "metadata": {},
     "output_type": "execute_result"
    }
   ],
   "source": [
    "mymodel = list(map(myfunc,x))\n",
    "mymodel"
   ]
  },
  {
   "cell_type": "code",
   "execution_count": 273,
   "id": "f3a46c8a",
   "metadata": {},
   "outputs": [
    {
     "data": {
      "text/plain": [
       "(array([4, 3, 3, 3, 6, 4, 5, 4, 5, 1, 2, 2, 3]),\n",
       " array([ 99,  86,  87,  88, 111,  86, 103,  87,  94,  78,  77,  85,  86]))"
      ]
     },
     "execution_count": 273,
     "metadata": {},
     "output_type": "execute_result"
    }
   ],
   "source": [
    "x,y"
   ]
  },
  {
   "cell_type": "code",
   "execution_count": 274,
   "id": "5c90f8df",
   "metadata": {},
   "outputs": [
    {
     "data": {
      "text/plain": [
       "[<matplotlib.lines.Line2D at 0x7f9f615ba590>]"
      ]
     },
     "execution_count": 274,
     "metadata": {},
     "output_type": "execute_result"
    },
    {
     "data": {
      "image/png": "[encoded data removed]",
      "text/plain": [
       "<Figure size 1080x648 with 1 Axes>"
      ]
     },
     "metadata": {
      "needs_background": "light"
     },
     "output_type": "display_data"
    }
   ],
   "source": [
    "plt.figure(figsize=(15,9))\n",
    "plt.scatter(x,y)\n",
    "plt.plot(x,mymodel,c='r')"
   ]
  },
  {
   "cell_type": "markdown",
   "id": "cad5ddfc",
   "metadata": {},
   "source": [
    "## new dataset"
   ]
  },
  {
   "cell_type": "code",
   "execution_count": 155,
   "id": "d0ce1f78",
   "metadata": {},
   "outputs": [],
   "source": []
  },
  {
   "cell_type": "code",
   "execution_count": null,
   "id": "a3412fa1",
   "metadata": {},
   "outputs": [],
   "source": []
  }
 ],
 "metadata": {
  "kernelspec": {
   "display_name": "Python 3 (ipykernel)",
   "language": "python",
   "name": "python3"
  },
  "language_info": {
   "codemirror_mode": {
    "name": "ipython",
    "version": 3
   },
   "file_extension": ".py",
   "mimetype": "text/x-python",
   "name": "python",
   "nbconvert_exporter": "python",
   "pygments_lexer": "ipython3",
   "version": "3.10.6"
  }
 },
 "nbformat": 4,
 "nbformat_minor": 5
}
